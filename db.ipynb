{
 "cells": [
  {
   "cell_type": "code",
   "execution_count": 4,
   "metadata": {},
   "outputs": [
    {
     "name": "stdout",
     "output_type": "stream",
     "text": [
      "Defaulting to user installation because normal site-packages is not writeable\n",
      "Requirement already satisfied: flask in /home/byshadowoz/.local/lib/python3.10/site-packages (3.0.3)\n",
      "Requirement already satisfied: blinker>=1.6.2 in /home/byshadowoz/.local/lib/python3.10/site-packages (from flask) (1.7.0)\n",
      "Requirement already satisfied: click>=8.1.3 in /home/byshadowoz/.local/lib/python3.10/site-packages (from flask) (8.1.7)\n",
      "Requirement already satisfied: itsdangerous>=2.1.2 in /home/byshadowoz/.local/lib/python3.10/site-packages (from flask) (2.2.0)\n",
      "Requirement already satisfied: Jinja2>=3.1.2 in /home/byshadowoz/.local/lib/python3.10/site-packages (from flask) (3.1.3)\n",
      "Requirement already satisfied: Werkzeug>=3.0.0 in /home/byshadowoz/.local/lib/python3.10/site-packages (from flask) (3.0.2)\n",
      "Requirement already satisfied: MarkupSafe>=2.0 in /home/byshadowoz/.local/lib/python3.10/site-packages (from Jinja2>=3.1.2->flask) (2.1.5)\n"
     ]
    }
   ],
   "source": [
    "!pip install flask"
   ]
  },
  {
   "cell_type": "code",
   "execution_count": 5,
   "metadata": {},
   "outputs": [
    {
     "name": "stdout",
     "output_type": "stream",
     "text": [
      " * Serving Flask app '__main__'\n",
      " * Debug mode: on\n"
     ]
    },
    {
     "name": "stderr",
     "output_type": "stream",
     "text": [
      "WARNING: This is a development server. Do not use it in a production deployment. Use a production WSGI server instead.\n",
      " * Running on http://127.0.0.1:5000\n",
      "Press CTRL+C to quit\n",
      " * Restarting with stat\n",
      "Traceback (most recent call last):\n",
      "  File \"/usr/lib/python3.10/runpy.py\", line 196, in _run_module_as_main\n",
      "    return _run_code(code, main_globals, None,\n",
      "  File \"/usr/lib/python3.10/runpy.py\", line 86, in _run_code\n",
      "    exec(code, run_globals)\n",
      "  File \"/home/byshadowoz/.local/lib/python3.10/site-packages/ipykernel_launcher.py\", line 18, in <module>\n",
      "    app.launch_new_instance()\n",
      "  File \"/home/byshadowoz/.local/lib/python3.10/site-packages/traitlets/config/application.py\", line 1074, in launch_instance\n",
      "    app.initialize(argv)\n",
      "  File \"/home/byshadowoz/.local/lib/python3.10/site-packages/traitlets/config/application.py\", line 118, in inner\n",
      "    return method(app, *args, **kwargs)\n",
      "  File \"/home/byshadowoz/.local/lib/python3.10/site-packages/ipykernel/kernelapp.py\", line 692, in initialize\n",
      "    self.init_sockets()\n",
      "  File \"/home/byshadowoz/.local/lib/python3.10/site-packages/ipykernel/kernelapp.py\", line 331, in init_sockets\n",
      "    self.shell_port = self._bind_socket(self.shell_socket, self.shell_port)\n",
      "  File \"/home/byshadowoz/.local/lib/python3.10/site-packages/ipykernel/kernelapp.py\", line 253, in _bind_socket\n",
      "    return self._try_bind_socket(s, port)\n",
      "  File \"/home/byshadowoz/.local/lib/python3.10/site-packages/ipykernel/kernelapp.py\", line 229, in _try_bind_socket\n",
      "    s.bind(\"tcp://%s:%i\" % (self.ip, port))\n",
      "  File \"/home/byshadowoz/.local/lib/python3.10/site-packages/zmq/sugar/socket.py\", line 302, in bind\n",
      "    super().bind(addr)\n",
      "  File \"zmq/backend/cython/socket.pyx\", line 564, in zmq.backend.cython.socket.Socket.bind\n",
      "  File \"zmq/backend/cython/checkrc.pxd\", line 28, in zmq.backend.cython.checkrc._check_rc\n",
      "zmq.error.ZMQError: Address already in use (addr='tcp://127.0.0.1:9002')\n"
     ]
    },
    {
     "ename": "SystemExit",
     "evalue": "1",
     "output_type": "error",
     "traceback": [
      "An exception has occurred, use %tb to see the full traceback.\n",
      "\u001b[0;31mSystemExit\u001b[0m\u001b[0;31m:\u001b[0m 1\n"
     ]
    }
   ],
   "source": [
    "from flask import Flask, request, jsonify\n",
    "import sqlite3\n",
    "from sqlite3 import Error\n",
    "\n",
    "# Función para crear una conexión a la base de datos SQLite\n",
    "def create_connection():\n",
    "    conn = None;\n",
    "    try:\n",
    "        conn = sqlite3.connect(':memory:')  # crea una base de datos en memoria\n",
    "        print(sqlite3.version)\n",
    "    except Error as e:\n",
    "        print(e)\n",
    "    if conn:\n",
    "        return conn\n",
    "\n",
    "# Función para crear una tabla en la base de datos SQLite\n",
    "def create_table(conn):\n",
    "    try:\n",
    "        sql = '''CREATE TABLE datos(id integer PRIMARY KEY AUTOINCREMENT, cc_num VARCHAR(255) NOT NULL,\n",
    "        merchant VARCHAR(255) NOT NULL, category VARCHAR(255) NOT NULL, amt integer NOT NULL, city VARCHAR(100) NOT NULL,\n",
    "        state VARCHAR(100) NOT NULL, job VARCHAR(200) NOT NULL);'''\n",
    "        conn.execute(sql)\n",
    "    except Error as e:\n",
    "        print(e)\n",
    "\n",
    "# Función para insertar datos en la base de datos SQLite\n",
    "def insert_datos(conn, info):\n",
    "    try:\n",
    "        cur = conn.cursor()\n",
    "        cur.execute(\"INSERT INTO datos(cc_num, merchant, category, amt, city, state, job) VALUES (?, ?, ?, ?, ?, ?, ?)\", \n",
    "                    (info['cc_num'], info['merchant'], info['category'], info['amt'], info['city'], info['state'], info['job']))\n",
    "        conn.commit()\n",
    "    except Error as e:\n",
    "        print(e)\n",
    "\n",
    "app = Flask(__name__)\n",
    "\n",
    "@app.route('/datos', methods=['POST'])\n",
    "def post_datos():\n",
    "    info = request.get_json()\n",
    "    conn = create_connection()\n",
    "    create_table(conn)\n",
    "    insert_datos(conn, info)\n",
    "    return jsonify({'message': '¡Información guardada con éxito!'}), 201\n",
    "\n",
    "if __name__ == '__main__':\n",
    "    app.run(debug=True)"
   ]
  },
  {
   "cell_type": "code",
   "execution_count": 6,
   "metadata": {},
   "outputs": [
    {
     "name": "stdout",
     "output_type": "stream",
     "text": [
      "/bin/bash: line 1: fg: no job control\n"
     ]
    }
   ],
   "source": []
  },
  {
   "cell_type": "code",
   "execution_count": null,
   "metadata": {},
   "outputs": [],
   "source": []
  }
 ],
 "metadata": {
  "kernelspec": {
   "display_name": "Python 3",
   "language": "python",
   "name": "python3"
  },
  "language_info": {
   "codemirror_mode": {
    "name": "ipython",
    "version": 3
   },
   "file_extension": ".py",
   "mimetype": "text/x-python",
   "name": "python",
   "nbconvert_exporter": "python",
   "pygments_lexer": "ipython3",
   "version": "3.10.12"
  }
 },
 "nbformat": 4,
 "nbformat_minor": 2
}
