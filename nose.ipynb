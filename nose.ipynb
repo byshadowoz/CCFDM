{
  "cells": [
    {
      "cell_type": "markdown",
      "metadata": {
        "colab_type": "text",
        "id": "view-in-github"
      },
      "source": [
        "<a href=\"https://colab.research.google.com/github/byshadowoz/CCFDM/blob/main/nose.ipynb\" target=\"_parent\"><img src=\"https://colab.research.google.com/assets/colab-badge.svg\" alt=\"Open In Colab\"/></a>"
      ]
    },
    {
      "cell_type": "markdown",
      "metadata": {},
      "source": [
        "# Model of Detection of credit card fraud "
      ]
    },
    {
      "cell_type": "code",
      "execution_count": null,
      "metadata": {},
      "outputs": [
        {
          "name": "stdout",
          "output_type": "stream",
          "text": [
            "Defaulting to user installation because normal site-packages is not writeable\n",
            "Requirement already satisfied: pandas in /home/byshadowoz/.local/lib/python3.10/site-packages (2.2.2)\n",
            "Requirement already satisfied: numpy>=1.22.4 in /home/byshadowoz/.local/lib/python3.10/site-packages (from pandas) (1.26.4)\n",
            "Requirement already satisfied: python-dateutil>=2.8.2 in /home/byshadowoz/.local/lib/python3.10/site-packages (from pandas) (2.9.0.post0)\n",
            "Requirement already satisfied: pytz>=2020.1 in /usr/lib/python3/dist-packages (from pandas) (2022.1)\n",
            "Requirement already satisfied: tzdata>=2022.7 in /home/byshadowoz/.local/lib/python3.10/site-packages (from pandas) (2024.1)\n",
            "Requirement already satisfied: six>=1.5 in /usr/lib/python3/dist-packages (from python-dateutil>=2.8.2->pandas) (1.16.0)\n"
          ]
        }
      ],
      "source": [
        "#instaling library pandas\n",
        "!pip install pandas"
      ]
    },
    {
      "cell_type": "code",
      "execution_count": 2,
      "metadata": {
        "id": "IcDXG8WwmGgO"
      },
      "outputs": [],
      "source": [
        "import numpy as np\n",
        "import pandas as pd\n",
        "#importing pandas and numpy library "
      ]
    },
    {
      "cell_type": "markdown",
      "metadata": {
        "id": "k6Nz9qOBmGgR"
      },
      "source": [
        "# Raw data"
      ]
    },
    {
      "cell_type": "code",
      "execution_count": null,
      "metadata": {
        "colab": {
          "base_uri": "https://localhost:8080/"
        },
        "id": "qHJU9pdwmGgS",
        "outputId": "6911081d-53d4-4c02-9188-19cfcc973547"
      },
      "outputs": [
        {
          "ename": "NameError",
          "evalue": "name 'pd' is not defined",
          "output_type": "error",
          "traceback": [
            "\u001b[0;31m---------------------------------------------------------------------------\u001b[0m",
            "\u001b[0;31mNameError\u001b[0m                                 Traceback (most recent call last)",
            "Cell \u001b[0;32mIn[1], line 1\u001b[0m\n\u001b[0;32m----> 1\u001b[0m data \u001b[38;5;241m=\u001b[39m \u001b[43mpd\u001b[49m\u001b[38;5;241m.\u001b[39mread_csv(\u001b[38;5;124m'\u001b[39m\u001b[38;5;124mfraudtest.csv\u001b[39m\u001b[38;5;124m'\u001b[39m, index_col\u001b[38;5;241m=\u001b[39m\u001b[38;5;241m0\u001b[39m)\n\u001b[1;32m      2\u001b[0m data\u001b[38;5;241m.\u001b[39minfo()\n",
            "\u001b[0;31mNameError\u001b[0m: name 'pd' is not defined"
          ]
        }
      ],
      "source": [
        "data = pd.read_csv('fraudtest.csv', index_col=0)\n",
        "data.info()\n",
        "# taking the csv from de archives(download in kaggle.com link in github)"
      ]
    },
    {
      "cell_type": "markdown",
      "metadata": {},
      "source": [
        "# Processing data\n",
        "### this will create a new colum named Time wich is the time between the first row of trans_date_trans_time minus all the rows divided in 60. then removes the useful columns of the dataframe. the last is dumies wich make the string rows in columns with boolean values "
      ]
    },
    {
      "cell_type": "code",
      "execution_count": 3,
      "metadata": {
        "id": "pd7wFsurV-PF"
      },
      "outputs": [],
      "source": [
        "coluseless = ['first','last','gender','street','lat','long','zip','city_pop','dob','trans_num','unix_time','trans_date_trans_time','merch_lat','merch_long']\n",
        "\n",
        "def processingDT(df):\n",
        "  #creating new column with the time btween the time in the column and the first column (first column = 0)\n",
        "  if 'trans_date_trans_time' in df.columns:\n",
        "    df.trans_date_trans_time = pd.to_datetime(df['trans_date_trans_time'])\n",
        "    df['Time'] = (df['trans_date_trans_time'] - df['trans_date_trans_time'].iloc[0]).dt.total_seconds()\n",
        "    df['Time'].fillna(0, inplace=True)\n",
        "    df['Time'] = df['Time'] / 60\n",
        "\n",
        "    #drop unuseful data for the ML model\n",
        "    coluseless = ['first','last','gender','street','lat','long','zip','city_pop','dob','trans_num','unix_time','trans_date_trans_time','merch_lat','merch_long']\n",
        "    for col in coluseless:\n",
        "        if col in df.columns:\n",
        "          df.drop(col,axis=1, inplace=True)\n",
        "  \n",
        "\n",
        "  #Processing string data to boolean data\n",
        "  def dummies(df,columns):\n",
        "\n",
        "    dummies = pd.get_dummies(df[columns])\n",
        "\n",
        "    df = pd.concat([df, dummies], axis=1)\n",
        "\n",
        "    df.drop(columns=columns, inplace=True)\n",
        "\n",
        "    return df\n",
        "\n",
        "  df = dummies(df,[ 'merchant', 'category','city', 'state', 'job',])\n",
        "\n",
        "  return df"
      ]
    },
    {
      "cell_type": "code",
      "execution_count": 56,
      "metadata": {
        "colab": {
          "base_uri": "https://localhost:8080/"
        },
        "id": "uc3khqP8mGgT",
        "outputId": "1e1bfb25-5086-4086-d77f-87f322f73d9e"
      },
      "outputs": [
        {
          "name": "stderr",
          "output_type": "stream",
          "text": [
            "/tmp/ipykernel_8448/1835225305.py:8: FutureWarning: A value is trying to be set on a copy of a DataFrame or Series through chained assignment using an inplace method.\n",
            "The behavior will change in pandas 3.0. This inplace method will never work because the intermediate object on which we are setting values always behaves as a copy.\n",
            "\n",
            "For example, when doing 'df[col].method(value, inplace=True)', try using 'df.method({col: value}, inplace=True)' or df[col] = df[col].method(value) instead, to perform the operation inplace on the original object.\n",
            "\n",
            "\n",
            "  df['Time'].fillna(0, inplace=True)\n"
          ]
        }
      ],
      "source": [
        "data = processingDT(data)"
      ]
    },
    {
      "cell_type": "markdown",
      "metadata": {},
      "source": [
        "# Procesing for modeling"
      ]
    },
    {
      "cell_type": "code",
      "execution_count": null,
      "metadata": {
        "id": "8cMQG8P0e16k"
      },
      "outputs": [],
      "source": [
        "x_cols =list(data.columns)\n",
        "x_cols.remove('is_fraud')\n",
        "x_cols.remove('Time')\n",
        "x_cols.remove('amt')"
      ]
    },
    {
      "cell_type": "markdown",
      "metadata": {},
      "source": [
        "## divided the model in two and grab the most low dataframe and then add all the values wich the column is_fraud is True = 1"
      ]
    },
    {
      "cell_type": "code",
      "execution_count": 12,
      "metadata": {
        "id": "8Y_u8I82hK6J"
      },
      "outputs": [],
      "source": [
        "data_part1_2 = data.head(138929)\n",
        "data_part1_3 = data.tail(416790)"
      ]
    },
    {
      "cell_type": "code",
      "execution_count": 13,
      "metadata": {
        "id": "RNZymLTqlYra"
      },
      "outputs": [],
      "source": [
        "data_part1_3 = data_part1_3[data_part1_3.is_fraud == 1]"
      ]
    },
    {
      "cell_type": "code",
      "execution_count": 14,
      "metadata": {
        "id": "vZYamJ4m0_EB"
      },
      "outputs": [],
      "source": [
        "data_part1_3 = data_part1_3.reset_index(drop=True)"
      ]
    },
    {
      "cell_type": "code",
      "execution_count": 15,
      "metadata": {
        "id": "KlNmm4sUwLN6"
      },
      "outputs": [],
      "source": [
        "data_part = pd.concat([data_part1_2,data_part1_3])"
      ]
    },
    {
      "cell_type": "code",
      "execution_count": 17,
      "metadata": {
        "colab": {
          "base_uri": "https://localhost:8080/"
        },
        "id": "ov14ccrIwWbU",
        "outputId": "95732f90-accc-4545-b360-c2e5dac2413d"
      },
      "outputs": [
        {
          "data": {
            "text/html": [
              "<div>\n",
              "<style scoped>\n",
              "    .dataframe tbody tr th:only-of-type {\n",
              "        vertical-align: middle;\n",
              "    }\n",
              "\n",
              "    .dataframe tbody tr th {\n",
              "        vertical-align: top;\n",
              "    }\n",
              "\n",
              "    .dataframe thead th {\n",
              "        text-align: right;\n",
              "    }\n",
              "</style>\n",
              "<table border=\"1\" class=\"dataframe\">\n",
              "  <thead>\n",
              "    <tr style=\"text-align: right;\">\n",
              "      <th></th>\n",
              "      <th>cc_num</th>\n",
              "      <th>amt</th>\n",
              "      <th>is_fraud</th>\n",
              "      <th>Time</th>\n",
              "      <th>merchant_fraud_Abbott-Rogahn</th>\n",
              "      <th>merchant_fraud_Abbott-Steuber</th>\n",
              "      <th>merchant_fraud_Abernathy and Sons</th>\n",
              "      <th>merchant_fraud_Abshire PLC</th>\n",
              "      <th>merchant_fraud_Adams, Kovacek and Kuhlman</th>\n",
              "      <th>merchant_fraud_Adams-Barrows</th>\n",
              "      <th>...</th>\n",
              "      <th>job_Video editor</th>\n",
              "      <th>job_Visual merchandiser</th>\n",
              "      <th>job_Volunteer coordinator</th>\n",
              "      <th>job_Warden/ranger</th>\n",
              "      <th>job_Waste management officer</th>\n",
              "      <th>job_Water engineer</th>\n",
              "      <th>job_Water quality scientist</th>\n",
              "      <th>job_Web designer</th>\n",
              "      <th>job_Wellsite geologist</th>\n",
              "      <th>job_Writer</th>\n",
              "    </tr>\n",
              "  </thead>\n",
              "  <tbody>\n",
              "    <tr>\n",
              "      <th>0</th>\n",
              "      <td>2.291160e+15</td>\n",
              "      <td>2.86</td>\n",
              "      <td>0</td>\n",
              "      <td>0.0</td>\n",
              "      <td>False</td>\n",
              "      <td>False</td>\n",
              "      <td>False</td>\n",
              "      <td>False</td>\n",
              "      <td>False</td>\n",
              "      <td>False</td>\n",
              "      <td>...</td>\n",
              "      <td>False</td>\n",
              "      <td>False</td>\n",
              "      <td>False</td>\n",
              "      <td>False</td>\n",
              "      <td>False</td>\n",
              "      <td>False</td>\n",
              "      <td>False</td>\n",
              "      <td>False</td>\n",
              "      <td>False</td>\n",
              "      <td>False</td>\n",
              "    </tr>\n",
              "    <tr>\n",
              "      <th>1</th>\n",
              "      <td>3.573030e+15</td>\n",
              "      <td>29.84</td>\n",
              "      <td>0</td>\n",
              "      <td>0.0</td>\n",
              "      <td>False</td>\n",
              "      <td>False</td>\n",
              "      <td>False</td>\n",
              "      <td>False</td>\n",
              "      <td>False</td>\n",
              "      <td>False</td>\n",
              "      <td>...</td>\n",
              "      <td>False</td>\n",
              "      <td>False</td>\n",
              "      <td>False</td>\n",
              "      <td>False</td>\n",
              "      <td>False</td>\n",
              "      <td>False</td>\n",
              "      <td>False</td>\n",
              "      <td>False</td>\n",
              "      <td>False</td>\n",
              "      <td>False</td>\n",
              "    </tr>\n",
              "    <tr>\n",
              "      <th>2</th>\n",
              "      <td>3.598220e+15</td>\n",
              "      <td>41.28</td>\n",
              "      <td>0</td>\n",
              "      <td>0.0</td>\n",
              "      <td>False</td>\n",
              "      <td>False</td>\n",
              "      <td>False</td>\n",
              "      <td>False</td>\n",
              "      <td>False</td>\n",
              "      <td>False</td>\n",
              "      <td>...</td>\n",
              "      <td>False</td>\n",
              "      <td>False</td>\n",
              "      <td>False</td>\n",
              "      <td>False</td>\n",
              "      <td>False</td>\n",
              "      <td>False</td>\n",
              "      <td>False</td>\n",
              "      <td>False</td>\n",
              "      <td>False</td>\n",
              "      <td>False</td>\n",
              "    </tr>\n",
              "    <tr>\n",
              "      <th>3</th>\n",
              "      <td>3.591920e+15</td>\n",
              "      <td>60.05</td>\n",
              "      <td>0</td>\n",
              "      <td>1.0</td>\n",
              "      <td>False</td>\n",
              "      <td>False</td>\n",
              "      <td>False</td>\n",
              "      <td>False</td>\n",
              "      <td>False</td>\n",
              "      <td>False</td>\n",
              "      <td>...</td>\n",
              "      <td>False</td>\n",
              "      <td>False</td>\n",
              "      <td>False</td>\n",
              "      <td>False</td>\n",
              "      <td>False</td>\n",
              "      <td>False</td>\n",
              "      <td>False</td>\n",
              "      <td>False</td>\n",
              "      <td>False</td>\n",
              "      <td>False</td>\n",
              "    </tr>\n",
              "    <tr>\n",
              "      <th>4</th>\n",
              "      <td>3.526830e+15</td>\n",
              "      <td>3.19</td>\n",
              "      <td>0</td>\n",
              "      <td>1.0</td>\n",
              "      <td>False</td>\n",
              "      <td>False</td>\n",
              "      <td>False</td>\n",
              "      <td>False</td>\n",
              "      <td>False</td>\n",
              "      <td>False</td>\n",
              "      <td>...</td>\n",
              "      <td>False</td>\n",
              "      <td>False</td>\n",
              "      <td>False</td>\n",
              "      <td>False</td>\n",
              "      <td>False</td>\n",
              "      <td>False</td>\n",
              "      <td>False</td>\n",
              "      <td>False</td>\n",
              "      <td>False</td>\n",
              "      <td>False</td>\n",
              "    </tr>\n",
              "    <tr>\n",
              "      <th>...</th>\n",
              "      <td>...</td>\n",
              "      <td>...</td>\n",
              "      <td>...</td>\n",
              "      <td>...</td>\n",
              "      <td>...</td>\n",
              "      <td>...</td>\n",
              "      <td>...</td>\n",
              "      <td>...</td>\n",
              "      <td>...</td>\n",
              "      <td>...</td>\n",
              "      <td>...</td>\n",
              "      <td>...</td>\n",
              "      <td>...</td>\n",
              "      <td>...</td>\n",
              "      <td>...</td>\n",
              "      <td>...</td>\n",
              "      <td>...</td>\n",
              "      <td>...</td>\n",
              "      <td>...</td>\n",
              "      <td>...</td>\n",
              "      <td>...</td>\n",
              "    </tr>\n",
              "    <tr>\n",
              "      <th>1522</th>\n",
              "      <td>2.242180e+15</td>\n",
              "      <td>1041.51</td>\n",
              "      <td>1</td>\n",
              "      <td>265551.0</td>\n",
              "      <td>False</td>\n",
              "      <td>False</td>\n",
              "      <td>False</td>\n",
              "      <td>False</td>\n",
              "      <td>False</td>\n",
              "      <td>False</td>\n",
              "      <td>...</td>\n",
              "      <td>False</td>\n",
              "      <td>False</td>\n",
              "      <td>False</td>\n",
              "      <td>False</td>\n",
              "      <td>False</td>\n",
              "      <td>False</td>\n",
              "      <td>False</td>\n",
              "      <td>False</td>\n",
              "      <td>False</td>\n",
              "      <td>False</td>\n",
              "    </tr>\n",
              "    <tr>\n",
              "      <th>1523</th>\n",
              "      <td>2.242180e+15</td>\n",
              "      <td>868.09</td>\n",
              "      <td>1</td>\n",
              "      <td>265564.0</td>\n",
              "      <td>False</td>\n",
              "      <td>False</td>\n",
              "      <td>False</td>\n",
              "      <td>False</td>\n",
              "      <td>False</td>\n",
              "      <td>False</td>\n",
              "      <td>...</td>\n",
              "      <td>False</td>\n",
              "      <td>False</td>\n",
              "      <td>False</td>\n",
              "      <td>False</td>\n",
              "      <td>False</td>\n",
              "      <td>False</td>\n",
              "      <td>False</td>\n",
              "      <td>False</td>\n",
              "      <td>False</td>\n",
              "      <td>False</td>\n",
              "    </tr>\n",
              "    <tr>\n",
              "      <th>1524</th>\n",
              "      <td>2.242180e+15</td>\n",
              "      <td>1039.42</td>\n",
              "      <td>1</td>\n",
              "      <td>265577.0</td>\n",
              "      <td>False</td>\n",
              "      <td>False</td>\n",
              "      <td>False</td>\n",
              "      <td>False</td>\n",
              "      <td>False</td>\n",
              "      <td>False</td>\n",
              "      <td>...</td>\n",
              "      <td>False</td>\n",
              "      <td>False</td>\n",
              "      <td>False</td>\n",
              "      <td>False</td>\n",
              "      <td>False</td>\n",
              "      <td>False</td>\n",
              "      <td>False</td>\n",
              "      <td>False</td>\n",
              "      <td>False</td>\n",
              "      <td>False</td>\n",
              "    </tr>\n",
              "    <tr>\n",
              "      <th>1525</th>\n",
              "      <td>2.242180e+15</td>\n",
              "      <td>289.27</td>\n",
              "      <td>1</td>\n",
              "      <td>265612.0</td>\n",
              "      <td>False</td>\n",
              "      <td>False</td>\n",
              "      <td>False</td>\n",
              "      <td>False</td>\n",
              "      <td>False</td>\n",
              "      <td>False</td>\n",
              "      <td>...</td>\n",
              "      <td>False</td>\n",
              "      <td>False</td>\n",
              "      <td>False</td>\n",
              "      <td>False</td>\n",
              "      <td>False</td>\n",
              "      <td>False</td>\n",
              "      <td>False</td>\n",
              "      <td>False</td>\n",
              "      <td>False</td>\n",
              "      <td>False</td>\n",
              "    </tr>\n",
              "    <tr>\n",
              "      <th>1526</th>\n",
              "      <td>2.242180e+15</td>\n",
              "      <td>766.38</td>\n",
              "      <td>1</td>\n",
              "      <td>265619.0</td>\n",
              "      <td>False</td>\n",
              "      <td>False</td>\n",
              "      <td>False</td>\n",
              "      <td>False</td>\n",
              "      <td>False</td>\n",
              "      <td>False</td>\n",
              "      <td>...</td>\n",
              "      <td>False</td>\n",
              "      <td>False</td>\n",
              "      <td>False</td>\n",
              "      <td>False</td>\n",
              "      <td>False</td>\n",
              "      <td>False</td>\n",
              "      <td>False</td>\n",
              "      <td>False</td>\n",
              "      <td>False</td>\n",
              "      <td>False</td>\n",
              "    </tr>\n",
              "  </tbody>\n",
              "</table>\n",
              "<p>140456 rows × 2088 columns</p>\n",
              "</div>"
            ],
            "text/plain": [
              "            cc_num      amt  is_fraud      Time  merchant_fraud_Abbott-Rogahn  \\\n",
              "0     2.291160e+15     2.86         0       0.0                         False   \n",
              "1     3.573030e+15    29.84         0       0.0                         False   \n",
              "2     3.598220e+15    41.28         0       0.0                         False   \n",
              "3     3.591920e+15    60.05         0       1.0                         False   \n",
              "4     3.526830e+15     3.19         0       1.0                         False   \n",
              "...            ...      ...       ...       ...                           ...   \n",
              "1522  2.242180e+15  1041.51         1  265551.0                         False   \n",
              "1523  2.242180e+15   868.09         1  265564.0                         False   \n",
              "1524  2.242180e+15  1039.42         1  265577.0                         False   \n",
              "1525  2.242180e+15   289.27         1  265612.0                         False   \n",
              "1526  2.242180e+15   766.38         1  265619.0                         False   \n",
              "\n",
              "      merchant_fraud_Abbott-Steuber  merchant_fraud_Abernathy and Sons  \\\n",
              "0                             False                              False   \n",
              "1                             False                              False   \n",
              "2                             False                              False   \n",
              "3                             False                              False   \n",
              "4                             False                              False   \n",
              "...                             ...                                ...   \n",
              "1522                          False                              False   \n",
              "1523                          False                              False   \n",
              "1524                          False                              False   \n",
              "1525                          False                              False   \n",
              "1526                          False                              False   \n",
              "\n",
              "      merchant_fraud_Abshire PLC  merchant_fraud_Adams, Kovacek and Kuhlman  \\\n",
              "0                          False                                      False   \n",
              "1                          False                                      False   \n",
              "2                          False                                      False   \n",
              "3                          False                                      False   \n",
              "4                          False                                      False   \n",
              "...                          ...                                        ...   \n",
              "1522                       False                                      False   \n",
              "1523                       False                                      False   \n",
              "1524                       False                                      False   \n",
              "1525                       False                                      False   \n",
              "1526                       False                                      False   \n",
              "\n",
              "      merchant_fraud_Adams-Barrows  ...  job_Video editor  \\\n",
              "0                            False  ...             False   \n",
              "1                            False  ...             False   \n",
              "2                            False  ...             False   \n",
              "3                            False  ...             False   \n",
              "4                            False  ...             False   \n",
              "...                            ...  ...               ...   \n",
              "1522                         False  ...             False   \n",
              "1523                         False  ...             False   \n",
              "1524                         False  ...             False   \n",
              "1525                         False  ...             False   \n",
              "1526                         False  ...             False   \n",
              "\n",
              "      job_Visual merchandiser  job_Volunteer coordinator  job_Warden/ranger  \\\n",
              "0                       False                      False              False   \n",
              "1                       False                      False              False   \n",
              "2                       False                      False              False   \n",
              "3                       False                      False              False   \n",
              "4                       False                      False              False   \n",
              "...                       ...                        ...                ...   \n",
              "1522                    False                      False              False   \n",
              "1523                    False                      False              False   \n",
              "1524                    False                      False              False   \n",
              "1525                    False                      False              False   \n",
              "1526                    False                      False              False   \n",
              "\n",
              "      job_Waste management officer  job_Water engineer  \\\n",
              "0                            False               False   \n",
              "1                            False               False   \n",
              "2                            False               False   \n",
              "3                            False               False   \n",
              "4                            False               False   \n",
              "...                            ...                 ...   \n",
              "1522                         False               False   \n",
              "1523                         False               False   \n",
              "1524                         False               False   \n",
              "1525                         False               False   \n",
              "1526                         False               False   \n",
              "\n",
              "      job_Water quality scientist  job_Web designer  job_Wellsite geologist  \\\n",
              "0                           False             False                   False   \n",
              "1                           False             False                   False   \n",
              "2                           False             False                   False   \n",
              "3                           False             False                   False   \n",
              "4                           False             False                   False   \n",
              "...                           ...               ...                     ...   \n",
              "1522                        False             False                   False   \n",
              "1523                        False             False                   False   \n",
              "1524                        False             False                   False   \n",
              "1525                        False             False                   False   \n",
              "1526                        False             False                   False   \n",
              "\n",
              "      job_Writer  \n",
              "0          False  \n",
              "1          False  \n",
              "2          False  \n",
              "3          False  \n",
              "4          False  \n",
              "...          ...  \n",
              "1522       False  \n",
              "1523       False  \n",
              "1524       False  \n",
              "1525       False  \n",
              "1526       False  \n",
              "\n",
              "[140456 rows x 2088 columns]"
            ]
          },
          "execution_count": 17,
          "metadata": {},
          "output_type": "execute_result"
        }
      ],
      "source": [
        "data_part"
      ]
    },
    {
      "cell_type": "markdown",
      "metadata": {
        "id": "SZu2LNjEVaB3"
      },
      "source": [
        "# Modeling"
      ]
    },
    {
      "cell_type": "markdown",
      "metadata": {},
      "source": [
        "### PCA and StandardScaler are used for zip the 2088 columns"
      ]
    },
    {
      "cell_type": "code",
      "execution_count": 18,
      "metadata": {
        "id": "c1WmLi60mGgU"
      },
      "outputs": [],
      "source": [
        "from sklearn.decomposition import PCA\n",
        "from sklearn.preprocessing import StandardScaler"
      ]
    },
    {
      "cell_type": "code",
      "execution_count": null,
      "metadata": {
        "id": "cDhGjmjjmGgU"
      },
      "outputs": [],
      "source": [
        "ss = StandardScaler()\n",
        "data_part[x_cols] = ss.fit_transform(data_part[x_cols])"
      ]
    },
    {
      "cell_type": "code",
      "execution_count": null,
      "metadata": {
        "id": "qGnUiILemGgV"
      },
      "outputs": [],
      "source": [
        "pca2 = PCA(n_components=28, random_state=42)\n",
        "pca2 = pca2.fit_transform(data_part[x_cols])"
      ]
    },
    {
      "cell_type": "code",
      "execution_count": null,
      "metadata": {
        "id": "jXO5V4TnkeRV"
      },
      "outputs": [],
      "source": [
        "#the name of columns that are compressed\n",
        "columns = ['V' + str(i) for i in range(1, 29)]"
      ]
    },
    {
      "cell_type": "code",
      "execution_count": null,
      "metadata": {
        "id": "cTYKVnSlzP6K"
      },
      "outputs": [],
      "source": [
        "data_part = data_part.reset_index(drop=True)"
      ]
    },
    {
      "cell_type": "code",
      "execution_count": null,
      "metadata": {
        "id": "JPnUslDipO5a"
      },
      "outputs": [],
      "source": [
        "data2 = pd.DataFrame(pca2, columns=columns).assign(is_fraud=data_part['is_fraud'],Time=data_part['Time'],Amount=data_part['amt'])"
      ]
    },
    {
      "cell_type": "code",
      "execution_count": null,
      "metadata": {
        "colab": {
          "base_uri": "https://localhost:8080/",
          "height": 444
        },
        "id": "aS4V0eyTqSqm",
        "outputId": "c96b2fb2-f7fd-473f-ab4a-55f35fb583d5"
      },
      "outputs": [
        {
          "data": {
            "application/vnd.google.colaboratory.intrinsic+json": {
              "type": "dataframe"
            },
            "text/html": [
              "\n",
              "  <div id=\"df-421f6d13-0040-4cd0-abca-c4b3094a68db\" class=\"colab-df-container\">\n",
              "    <div>\n",
              "<style scoped>\n",
              "    .dataframe tbody tr th:only-of-type {\n",
              "        vertical-align: middle;\n",
              "    }\n",
              "\n",
              "    .dataframe tbody tr th {\n",
              "        vertical-align: top;\n",
              "    }\n",
              "\n",
              "    .dataframe thead th {\n",
              "        text-align: right;\n",
              "    }\n",
              "</style>\n",
              "<table border=\"1\" class=\"dataframe\">\n",
              "  <thead>\n",
              "    <tr style=\"text-align: right;\">\n",
              "      <th></th>\n",
              "      <th>V1</th>\n",
              "      <th>V2</th>\n",
              "      <th>V3</th>\n",
              "      <th>V4</th>\n",
              "      <th>V5</th>\n",
              "      <th>V6</th>\n",
              "      <th>V7</th>\n",
              "      <th>V8</th>\n",
              "      <th>V9</th>\n",
              "      <th>V10</th>\n",
              "      <th>...</th>\n",
              "      <th>V22</th>\n",
              "      <th>V23</th>\n",
              "      <th>V24</th>\n",
              "      <th>V25</th>\n",
              "      <th>V26</th>\n",
              "      <th>V27</th>\n",
              "      <th>V28</th>\n",
              "      <th>is_fraud</th>\n",
              "      <th>Time</th>\n",
              "      <th>Amount</th>\n",
              "    </tr>\n",
              "  </thead>\n",
              "  <tbody>\n",
              "    <tr>\n",
              "      <th>1685</th>\n",
              "      <td>-0.598172</td>\n",
              "      <td>1.144613</td>\n",
              "      <td>-0.094510</td>\n",
              "      <td>0.859783</td>\n",
              "      <td>-1.011711</td>\n",
              "      <td>0.273199</td>\n",
              "      <td>0.727060</td>\n",
              "      <td>-1.906297</td>\n",
              "      <td>-0.736238</td>\n",
              "      <td>-0.001437</td>\n",
              "      <td>...</td>\n",
              "      <td>-0.443760</td>\n",
              "      <td>-0.490428</td>\n",
              "      <td>-0.030474</td>\n",
              "      <td>1.545240</td>\n",
              "      <td>0.434241</td>\n",
              "      <td>-0.478522</td>\n",
              "      <td>0.463882</td>\n",
              "      <td>1</td>\n",
              "      <td>592.0</td>\n",
              "      <td>24.84</td>\n",
              "    </tr>\n",
              "    <tr>\n",
              "      <th>1767</th>\n",
              "      <td>-1.480529</td>\n",
              "      <td>0.222242</td>\n",
              "      <td>1.295261</td>\n",
              "      <td>1.365133</td>\n",
              "      <td>2.788950</td>\n",
              "      <td>-2.822044</td>\n",
              "      <td>2.669732</td>\n",
              "      <td>0.585923</td>\n",
              "      <td>-1.853767</td>\n",
              "      <td>0.483757</td>\n",
              "      <td>...</td>\n",
              "      <td>-3.983478</td>\n",
              "      <td>-1.416715</td>\n",
              "      <td>0.104810</td>\n",
              "      <td>2.107172</td>\n",
              "      <td>-2.274064</td>\n",
              "      <td>-0.167767</td>\n",
              "      <td>1.985643</td>\n",
              "      <td>1</td>\n",
              "      <td>618.0</td>\n",
              "      <td>780.52</td>\n",
              "    </tr>\n",
              "    <tr>\n",
              "      <th>1781</th>\n",
              "      <td>-1.271606</td>\n",
              "      <td>0.120356</td>\n",
              "      <td>1.465947</td>\n",
              "      <td>1.133249</td>\n",
              "      <td>2.766102</td>\n",
              "      <td>-2.587641</td>\n",
              "      <td>2.578613</td>\n",
              "      <td>0.505140</td>\n",
              "      <td>-1.745468</td>\n",
              "      <td>0.100368</td>\n",
              "      <td>...</td>\n",
              "      <td>-3.687705</td>\n",
              "      <td>-1.451466</td>\n",
              "      <td>0.204187</td>\n",
              "      <td>2.378236</td>\n",
              "      <td>-2.394648</td>\n",
              "      <td>-0.018352</td>\n",
              "      <td>2.039806</td>\n",
              "      <td>1</td>\n",
              "      <td>623.0</td>\n",
              "      <td>620.33</td>\n",
              "    </tr>\n",
              "    <tr>\n",
              "      <th>1784</th>\n",
              "      <td>1.743642</td>\n",
              "      <td>-1.296773</td>\n",
              "      <td>0.433705</td>\n",
              "      <td>-3.781448</td>\n",
              "      <td>-2.790281</td>\n",
              "      <td>-0.258579</td>\n",
              "      <td>1.645773</td>\n",
              "      <td>-3.878941</td>\n",
              "      <td>-2.384804</td>\n",
              "      <td>0.102737</td>\n",
              "      <td>...</td>\n",
              "      <td>-0.120302</td>\n",
              "      <td>0.148986</td>\n",
              "      <td>-2.109904</td>\n",
              "      <td>-0.837889</td>\n",
              "      <td>1.047046</td>\n",
              "      <td>-2.220008</td>\n",
              "      <td>-1.334460</td>\n",
              "      <td>1</td>\n",
              "      <td>624.0</td>\n",
              "      <td>1077.69</td>\n",
              "    </tr>\n",
              "    <tr>\n",
              "      <th>1857</th>\n",
              "      <td>-0.815687</td>\n",
              "      <td>1.383508</td>\n",
              "      <td>-0.072413</td>\n",
              "      <td>0.736195</td>\n",
              "      <td>-0.783435</td>\n",
              "      <td>0.417599</td>\n",
              "      <td>0.575419</td>\n",
              "      <td>-2.198089</td>\n",
              "      <td>-0.785825</td>\n",
              "      <td>-0.297522</td>\n",
              "      <td>...</td>\n",
              "      <td>-0.337583</td>\n",
              "      <td>-0.478347</td>\n",
              "      <td>0.136176</td>\n",
              "      <td>1.477905</td>\n",
              "      <td>0.481226</td>\n",
              "      <td>-0.645979</td>\n",
              "      <td>0.451778</td>\n",
              "      <td>1</td>\n",
              "      <td>648.0</td>\n",
              "      <td>842.65</td>\n",
              "    </tr>\n",
              "    <tr>\n",
              "      <th>...</th>\n",
              "      <td>...</td>\n",
              "      <td>...</td>\n",
              "      <td>...</td>\n",
              "      <td>...</td>\n",
              "      <td>...</td>\n",
              "      <td>...</td>\n",
              "      <td>...</td>\n",
              "      <td>...</td>\n",
              "      <td>...</td>\n",
              "      <td>...</td>\n",
              "      <td>...</td>\n",
              "      <td>...</td>\n",
              "      <td>...</td>\n",
              "      <td>...</td>\n",
              "      <td>...</td>\n",
              "      <td>...</td>\n",
              "      <td>...</td>\n",
              "      <td>...</td>\n",
              "      <td>...</td>\n",
              "      <td>...</td>\n",
              "      <td>...</td>\n",
              "    </tr>\n",
              "    <tr>\n",
              "      <th>140451</th>\n",
              "      <td>-1.885197</td>\n",
              "      <td>-1.901633</td>\n",
              "      <td>-0.328577</td>\n",
              "      <td>0.413878</td>\n",
              "      <td>-1.585098</td>\n",
              "      <td>0.579325</td>\n",
              "      <td>0.020023</td>\n",
              "      <td>0.070661</td>\n",
              "      <td>1.485562</td>\n",
              "      <td>0.856125</td>\n",
              "      <td>...</td>\n",
              "      <td>-1.021674</td>\n",
              "      <td>0.118913</td>\n",
              "      <td>-2.673635</td>\n",
              "      <td>-2.147107</td>\n",
              "      <td>-1.147776</td>\n",
              "      <td>0.033870</td>\n",
              "      <td>-2.094554</td>\n",
              "      <td>1</td>\n",
              "      <td>265551.0</td>\n",
              "      <td>1041.51</td>\n",
              "    </tr>\n",
              "    <tr>\n",
              "      <th>140452</th>\n",
              "      <td>-1.884568</td>\n",
              "      <td>-1.865341</td>\n",
              "      <td>-0.385483</td>\n",
              "      <td>0.385217</td>\n",
              "      <td>-1.621335</td>\n",
              "      <td>0.595049</td>\n",
              "      <td>-0.018489</td>\n",
              "      <td>0.083034</td>\n",
              "      <td>1.475932</td>\n",
              "      <td>0.945927</td>\n",
              "      <td>...</td>\n",
              "      <td>-1.062314</td>\n",
              "      <td>0.022884</td>\n",
              "      <td>-2.721337</td>\n",
              "      <td>-2.219702</td>\n",
              "      <td>-1.177209</td>\n",
              "      <td>0.053716</td>\n",
              "      <td>-2.214453</td>\n",
              "      <td>1</td>\n",
              "      <td>265564.0</td>\n",
              "      <td>868.09</td>\n",
              "    </tr>\n",
              "    <tr>\n",
              "      <th>140453</th>\n",
              "      <td>-1.791368</td>\n",
              "      <td>-1.933004</td>\n",
              "      <td>-0.455697</td>\n",
              "      <td>0.551157</td>\n",
              "      <td>-1.971012</td>\n",
              "      <td>0.426638</td>\n",
              "      <td>-0.012275</td>\n",
              "      <td>0.414370</td>\n",
              "      <td>1.585215</td>\n",
              "      <td>1.286257</td>\n",
              "      <td>...</td>\n",
              "      <td>-1.057889</td>\n",
              "      <td>0.028093</td>\n",
              "      <td>-2.760386</td>\n",
              "      <td>-2.211881</td>\n",
              "      <td>-1.059834</td>\n",
              "      <td>0.244320</td>\n",
              "      <td>-1.994913</td>\n",
              "      <td>1</td>\n",
              "      <td>265577.0</td>\n",
              "      <td>1039.42</td>\n",
              "    </tr>\n",
              "    <tr>\n",
              "      <th>140454</th>\n",
              "      <td>-1.917875</td>\n",
              "      <td>-1.994005</td>\n",
              "      <td>-0.424867</td>\n",
              "      <td>0.592209</td>\n",
              "      <td>-1.757509</td>\n",
              "      <td>0.562001</td>\n",
              "      <td>0.002287</td>\n",
              "      <td>-0.145944</td>\n",
              "      <td>1.640667</td>\n",
              "      <td>0.913690</td>\n",
              "      <td>...</td>\n",
              "      <td>-0.889942</td>\n",
              "      <td>-0.056516</td>\n",
              "      <td>-2.833079</td>\n",
              "      <td>-2.060295</td>\n",
              "      <td>-0.937546</td>\n",
              "      <td>0.249133</td>\n",
              "      <td>-1.997296</td>\n",
              "      <td>1</td>\n",
              "      <td>265612.0</td>\n",
              "      <td>289.27</td>\n",
              "    </tr>\n",
              "    <tr>\n",
              "      <th>140455</th>\n",
              "      <td>-1.991545</td>\n",
              "      <td>-1.756201</td>\n",
              "      <td>-0.459977</td>\n",
              "      <td>0.792930</td>\n",
              "      <td>-1.583823</td>\n",
              "      <td>0.529589</td>\n",
              "      <td>0.076510</td>\n",
              "      <td>0.190998</td>\n",
              "      <td>1.474376</td>\n",
              "      <td>1.105854</td>\n",
              "      <td>...</td>\n",
              "      <td>-1.154492</td>\n",
              "      <td>0.062851</td>\n",
              "      <td>-2.713026</td>\n",
              "      <td>-2.142972</td>\n",
              "      <td>-0.900178</td>\n",
              "      <td>0.297724</td>\n",
              "      <td>-2.045344</td>\n",
              "      <td>1</td>\n",
              "      <td>265619.0</td>\n",
              "      <td>766.38</td>\n",
              "    </tr>\n",
              "  </tbody>\n",
              "</table>\n",
              "<p>2145 rows × 31 columns</p>\n",
              "</div>\n",
              "    <div class=\"colab-df-buttons\">\n",
              "\n",
              "  <div class=\"colab-df-container\">\n",
              "    <button class=\"colab-df-convert\" onclick=\"convertToInteractive('df-421f6d13-0040-4cd0-abca-c4b3094a68db')\"\n",
              "            title=\"Convert this dataframe to an interactive table.\"\n",
              "            style=\"display:none;\">\n",
              "\n",
              "  <svg xmlns=\"http://www.w3.org/2000/svg\" height=\"24px\" viewBox=\"0 -960 960 960\">\n",
              "    <path d=\"M120-120v-720h720v720H120Zm60-500h600v-160H180v160Zm220 220h160v-160H400v160Zm0 220h160v-160H400v160ZM180-400h160v-160H180v160Zm440 0h160v-160H620v160ZM180-180h160v-160H180v160Zm440 0h160v-160H620v160Z\"/>\n",
              "  </svg>\n",
              "    </button>\n",
              "\n",
              "  <style>\n",
              "    .colab-df-container {\n",
              "      display:flex;\n",
              "      gap: 12px;\n",
              "    }\n",
              "\n",
              "    .colab-df-convert {\n",
              "      background-color: #E8F0FE;\n",
              "      border: none;\n",
              "      border-radius: 50%;\n",
              "      cursor: pointer;\n",
              "      display: none;\n",
              "      fill: #1967D2;\n",
              "      height: 32px;\n",
              "      padding: 0 0 0 0;\n",
              "      width: 32px;\n",
              "    }\n",
              "\n",
              "    .colab-df-convert:hover {\n",
              "      background-color: #E2EBFA;\n",
              "      box-shadow: 0px 1px 2px rgba(60, 64, 67, 0.3), 0px 1px 3px 1px rgba(60, 64, 67, 0.15);\n",
              "      fill: #174EA6;\n",
              "    }\n",
              "\n",
              "    .colab-df-buttons div {\n",
              "      margin-bottom: 4px;\n",
              "    }\n",
              "\n",
              "    [theme=dark] .colab-df-convert {\n",
              "      background-color: #3B4455;\n",
              "      fill: #D2E3FC;\n",
              "    }\n",
              "\n",
              "    [theme=dark] .colab-df-convert:hover {\n",
              "      background-color: #434B5C;\n",
              "      box-shadow: 0px 1px 3px 1px rgba(0, 0, 0, 0.15);\n",
              "      filter: drop-shadow(0px 1px 2px rgba(0, 0, 0, 0.3));\n",
              "      fill: #FFFFFF;\n",
              "    }\n",
              "  </style>\n",
              "\n",
              "    <script>\n",
              "      const buttonEl =\n",
              "        document.querySelector('#df-421f6d13-0040-4cd0-abca-c4b3094a68db button.colab-df-convert');\n",
              "      buttonEl.style.display =\n",
              "        google.colab.kernel.accessAllowed ? 'block' : 'none';\n",
              "\n",
              "      async function convertToInteractive(key) {\n",
              "        const element = document.querySelector('#df-421f6d13-0040-4cd0-abca-c4b3094a68db');\n",
              "        const dataTable =\n",
              "          await google.colab.kernel.invokeFunction('convertToInteractive',\n",
              "                                                    [key], {});\n",
              "        if (!dataTable) return;\n",
              "\n",
              "        const docLinkHtml = 'Like what you see? Visit the ' +\n",
              "          '<a target=\"_blank\" href=https://colab.research.google.com/notebooks/data_table.ipynb>data table notebook</a>'\n",
              "          + ' to learn more about interactive tables.';\n",
              "        element.innerHTML = '';\n",
              "        dataTable['output_type'] = 'display_data';\n",
              "        await google.colab.output.renderOutput(dataTable, element);\n",
              "        const docLink = document.createElement('div');\n",
              "        docLink.innerHTML = docLinkHtml;\n",
              "        element.appendChild(docLink);\n",
              "      }\n",
              "    </script>\n",
              "  </div>\n",
              "\n",
              "\n",
              "<div id=\"df-6d6718c3-10a1-4544-85df-bd1e139eae69\">\n",
              "  <button class=\"colab-df-quickchart\" onclick=\"quickchart('df-6d6718c3-10a1-4544-85df-bd1e139eae69')\"\n",
              "            title=\"Suggest charts\"\n",
              "            style=\"display:none;\">\n",
              "\n",
              "<svg xmlns=\"http://www.w3.org/2000/svg\" height=\"24px\"viewBox=\"0 0 24 24\"\n",
              "     width=\"24px\">\n",
              "    <g>\n",
              "        <path d=\"M19 3H5c-1.1 0-2 .9-2 2v14c0 1.1.9 2 2 2h14c1.1 0 2-.9 2-2V5c0-1.1-.9-2-2-2zM9 17H7v-7h2v7zm4 0h-2V7h2v10zm4 0h-2v-4h2v4z\"/>\n",
              "    </g>\n",
              "</svg>\n",
              "  </button>\n",
              "\n",
              "<style>\n",
              "  .colab-df-quickchart {\n",
              "      --bg-color: #E8F0FE;\n",
              "      --fill-color: #1967D2;\n",
              "      --hover-bg-color: #E2EBFA;\n",
              "      --hover-fill-color: #174EA6;\n",
              "      --disabled-fill-color: #AAA;\n",
              "      --disabled-bg-color: #DDD;\n",
              "  }\n",
              "\n",
              "  [theme=dark] .colab-df-quickchart {\n",
              "      --bg-color: #3B4455;\n",
              "      --fill-color: #D2E3FC;\n",
              "      --hover-bg-color: #434B5C;\n",
              "      --hover-fill-color: #FFFFFF;\n",
              "      --disabled-bg-color: #3B4455;\n",
              "      --disabled-fill-color: #666;\n",
              "  }\n",
              "\n",
              "  .colab-df-quickchart {\n",
              "    background-color: var(--bg-color);\n",
              "    border: none;\n",
              "    border-radius: 50%;\n",
              "    cursor: pointer;\n",
              "    display: none;\n",
              "    fill: var(--fill-color);\n",
              "    height: 32px;\n",
              "    padding: 0;\n",
              "    width: 32px;\n",
              "  }\n",
              "\n",
              "  .colab-df-quickchart:hover {\n",
              "    background-color: var(--hover-bg-color);\n",
              "    box-shadow: 0 1px 2px rgba(60, 64, 67, 0.3), 0 1px 3px 1px rgba(60, 64, 67, 0.15);\n",
              "    fill: var(--button-hover-fill-color);\n",
              "  }\n",
              "\n",
              "  .colab-df-quickchart-complete:disabled,\n",
              "  .colab-df-quickchart-complete:disabled:hover {\n",
              "    background-color: var(--disabled-bg-color);\n",
              "    fill: var(--disabled-fill-color);\n",
              "    box-shadow: none;\n",
              "  }\n",
              "\n",
              "  .colab-df-spinner {\n",
              "    border: 2px solid var(--fill-color);\n",
              "    border-color: transparent;\n",
              "    border-bottom-color: var(--fill-color);\n",
              "    animation:\n",
              "      spin 1s steps(1) infinite;\n",
              "  }\n",
              "\n",
              "  @keyframes spin {\n",
              "    0% {\n",
              "      border-color: transparent;\n",
              "      border-bottom-color: var(--fill-color);\n",
              "      border-left-color: var(--fill-color);\n",
              "    }\n",
              "    20% {\n",
              "      border-color: transparent;\n",
              "      border-left-color: var(--fill-color);\n",
              "      border-top-color: var(--fill-color);\n",
              "    }\n",
              "    30% {\n",
              "      border-color: transparent;\n",
              "      border-left-color: var(--fill-color);\n",
              "      border-top-color: var(--fill-color);\n",
              "      border-right-color: var(--fill-color);\n",
              "    }\n",
              "    40% {\n",
              "      border-color: transparent;\n",
              "      border-right-color: var(--fill-color);\n",
              "      border-top-color: var(--fill-color);\n",
              "    }\n",
              "    60% {\n",
              "      border-color: transparent;\n",
              "      border-right-color: var(--fill-color);\n",
              "    }\n",
              "    80% {\n",
              "      border-color: transparent;\n",
              "      border-right-color: var(--fill-color);\n",
              "      border-bottom-color: var(--fill-color);\n",
              "    }\n",
              "    90% {\n",
              "      border-color: transparent;\n",
              "      border-bottom-color: var(--fill-color);\n",
              "    }\n",
              "  }\n",
              "</style>\n",
              "\n",
              "  <script>\n",
              "    async function quickchart(key) {\n",
              "      const quickchartButtonEl =\n",
              "        document.querySelector('#' + key + ' button');\n",
              "      quickchartButtonEl.disabled = true;  // To prevent multiple clicks.\n",
              "      quickchartButtonEl.classList.add('colab-df-spinner');\n",
              "      try {\n",
              "        const charts = await google.colab.kernel.invokeFunction(\n",
              "            'suggestCharts', [key], {});\n",
              "      } catch (error) {\n",
              "        console.error('Error during call to suggestCharts:', error);\n",
              "      }\n",
              "      quickchartButtonEl.classList.remove('colab-df-spinner');\n",
              "      quickchartButtonEl.classList.add('colab-df-quickchart-complete');\n",
              "    }\n",
              "    (() => {\n",
              "      let quickchartButtonEl =\n",
              "        document.querySelector('#df-6d6718c3-10a1-4544-85df-bd1e139eae69 button');\n",
              "      quickchartButtonEl.style.display =\n",
              "        google.colab.kernel.accessAllowed ? 'block' : 'none';\n",
              "    })();\n",
              "  </script>\n",
              "</div>\n",
              "\n",
              "    </div>\n",
              "  </div>\n"
            ],
            "text/plain": [
              "              V1        V2        V3        V4        V5        V6        V7  \\\n",
              "1685   -0.598172  1.144613 -0.094510  0.859783 -1.011711  0.273199  0.727060   \n",
              "1767   -1.480529  0.222242  1.295261  1.365133  2.788950 -2.822044  2.669732   \n",
              "1781   -1.271606  0.120356  1.465947  1.133249  2.766102 -2.587641  2.578613   \n",
              "1784    1.743642 -1.296773  0.433705 -3.781448 -2.790281 -0.258579  1.645773   \n",
              "1857   -0.815687  1.383508 -0.072413  0.736195 -0.783435  0.417599  0.575419   \n",
              "...          ...       ...       ...       ...       ...       ...       ...   \n",
              "140451 -1.885197 -1.901633 -0.328577  0.413878 -1.585098  0.579325  0.020023   \n",
              "140452 -1.884568 -1.865341 -0.385483  0.385217 -1.621335  0.595049 -0.018489   \n",
              "140453 -1.791368 -1.933004 -0.455697  0.551157 -1.971012  0.426638 -0.012275   \n",
              "140454 -1.917875 -1.994005 -0.424867  0.592209 -1.757509  0.562001  0.002287   \n",
              "140455 -1.991545 -1.756201 -0.459977  0.792930 -1.583823  0.529589  0.076510   \n",
              "\n",
              "              V8        V9       V10  ...       V22       V23       V24  \\\n",
              "1685   -1.906297 -0.736238 -0.001437  ... -0.443760 -0.490428 -0.030474   \n",
              "1767    0.585923 -1.853767  0.483757  ... -3.983478 -1.416715  0.104810   \n",
              "1781    0.505140 -1.745468  0.100368  ... -3.687705 -1.451466  0.204187   \n",
              "1784   -3.878941 -2.384804  0.102737  ... -0.120302  0.148986 -2.109904   \n",
              "1857   -2.198089 -0.785825 -0.297522  ... -0.337583 -0.478347  0.136176   \n",
              "...          ...       ...       ...  ...       ...       ...       ...   \n",
              "140451  0.070661  1.485562  0.856125  ... -1.021674  0.118913 -2.673635   \n",
              "140452  0.083034  1.475932  0.945927  ... -1.062314  0.022884 -2.721337   \n",
              "140453  0.414370  1.585215  1.286257  ... -1.057889  0.028093 -2.760386   \n",
              "140454 -0.145944  1.640667  0.913690  ... -0.889942 -0.056516 -2.833079   \n",
              "140455  0.190998  1.474376  1.105854  ... -1.154492  0.062851 -2.713026   \n",
              "\n",
              "             V25       V26       V27       V28  is_fraud      Time   Amount  \n",
              "1685    1.545240  0.434241 -0.478522  0.463882         1     592.0    24.84  \n",
              "1767    2.107172 -2.274064 -0.167767  1.985643         1     618.0   780.52  \n",
              "1781    2.378236 -2.394648 -0.018352  2.039806         1     623.0   620.33  \n",
              "1784   -0.837889  1.047046 -2.220008 -1.334460         1     624.0  1077.69  \n",
              "1857    1.477905  0.481226 -0.645979  0.451778         1     648.0   842.65  \n",
              "...          ...       ...       ...       ...       ...       ...      ...  \n",
              "140451 -2.147107 -1.147776  0.033870 -2.094554         1  265551.0  1041.51  \n",
              "140452 -2.219702 -1.177209  0.053716 -2.214453         1  265564.0   868.09  \n",
              "140453 -2.211881 -1.059834  0.244320 -1.994913         1  265577.0  1039.42  \n",
              "140454 -2.060295 -0.937546  0.249133 -1.997296         1  265612.0   289.27  \n",
              "140455 -2.142972 -0.900178  0.297724 -2.045344         1  265619.0   766.38  \n",
              "\n",
              "[2145 rows x 31 columns]"
            ]
          },
          "execution_count": 18,
          "metadata": {},
          "output_type": "execute_result"
        }
      ],
      "source": [
        "data2[data2.is_fraud == 1]"
      ]
    },
    {
      "cell_type": "markdown",
      "metadata": {},
      "source": [
        "# Modeling Logistic Regresion and seeing acuraccy"
      ]
    },
    {
      "cell_type": "code",
      "execution_count": null,
      "metadata": {
        "id": "iyixL34FIxvs"
      },
      "outputs": [],
      "source": [
        "from sklearn.linear_model import LogisticRegression\n",
        "from sklearn.metrics import accuracy_score"
      ]
    },
    {
      "cell_type": "code",
      "execution_count": null,
      "metadata": {
        "id": "9DRKepuhHFtS"
      },
      "outputs": [],
      "source": [
        "x = data2.drop(columns=['is_fraud'])\n",
        "y = data2.is_fraud"
      ]
    },
    {
      "cell_type": "code",
      "execution_count": null,
      "metadata": {
        "id": "ui66CFoAHqK9"
      },
      "outputs": [],
      "source": [
        "model = LogisticRegression()"
      ]
    },
    {
      "cell_type": "code",
      "execution_count": null,
      "metadata": {
        "id": "8BE0s0k2IfuO"
      },
      "outputs": [],
      "source": [
        "from sklearn.model_selection import train_test_split\n",
        "\n",
        "x_train, x_test, y_train, y_test = train_test_split(x,y, test_size=0.3, random_state=42)"
      ]
    },
    {
      "cell_type": "code",
      "execution_count": null,
      "metadata": {
        "colab": {
          "base_uri": "https://localhost:8080/",
          "height": 75
        },
        "id": "DLFIu6VAtlXg",
        "outputId": "f4c38f1b-96ba-4153-e70b-c17528e4146f"
      },
      "outputs": [
        {
          "data": {
            "text/html": [
              "<style>#sk-container-id-1 {color: black;background-color: white;}#sk-container-id-1 pre{padding: 0;}#sk-container-id-1 div.sk-toggleable {background-color: white;}#sk-container-id-1 label.sk-toggleable__label {cursor: pointer;display: block;width: 100%;margin-bottom: 0;padding: 0.3em;box-sizing: border-box;text-align: center;}#sk-container-id-1 label.sk-toggleable__label-arrow:before {content: \"▸\";float: left;margin-right: 0.25em;color: #696969;}#sk-container-id-1 label.sk-toggleable__label-arrow:hover:before {color: black;}#sk-container-id-1 div.sk-estimator:hover label.sk-toggleable__label-arrow:before {color: black;}#sk-container-id-1 div.sk-toggleable__content {max-height: 0;max-width: 0;overflow: hidden;text-align: left;background-color: #f0f8ff;}#sk-container-id-1 div.sk-toggleable__content pre {margin: 0.2em;color: black;border-radius: 0.25em;background-color: #f0f8ff;}#sk-container-id-1 input.sk-toggleable__control:checked~div.sk-toggleable__content {max-height: 200px;max-width: 100%;overflow: auto;}#sk-container-id-1 input.sk-toggleable__control:checked~label.sk-toggleable__label-arrow:before {content: \"▾\";}#sk-container-id-1 div.sk-estimator input.sk-toggleable__control:checked~label.sk-toggleable__label {background-color: #d4ebff;}#sk-container-id-1 div.sk-label input.sk-toggleable__control:checked~label.sk-toggleable__label {background-color: #d4ebff;}#sk-container-id-1 input.sk-hidden--visually {border: 0;clip: rect(1px 1px 1px 1px);clip: rect(1px, 1px, 1px, 1px);height: 1px;margin: -1px;overflow: hidden;padding: 0;position: absolute;width: 1px;}#sk-container-id-1 div.sk-estimator {font-family: monospace;background-color: #f0f8ff;border: 1px dotted black;border-radius: 0.25em;box-sizing: border-box;margin-bottom: 0.5em;}#sk-container-id-1 div.sk-estimator:hover {background-color: #d4ebff;}#sk-container-id-1 div.sk-parallel-item::after {content: \"\";width: 100%;border-bottom: 1px solid gray;flex-grow: 1;}#sk-container-id-1 div.sk-label:hover label.sk-toggleable__label {background-color: #d4ebff;}#sk-container-id-1 div.sk-serial::before {content: \"\";position: absolute;border-left: 1px solid gray;box-sizing: border-box;top: 0;bottom: 0;left: 50%;z-index: 0;}#sk-container-id-1 div.sk-serial {display: flex;flex-direction: column;align-items: center;background-color: white;padding-right: 0.2em;padding-left: 0.2em;position: relative;}#sk-container-id-1 div.sk-item {position: relative;z-index: 1;}#sk-container-id-1 div.sk-parallel {display: flex;align-items: stretch;justify-content: center;background-color: white;position: relative;}#sk-container-id-1 div.sk-item::before, #sk-container-id-1 div.sk-parallel-item::before {content: \"\";position: absolute;border-left: 1px solid gray;box-sizing: border-box;top: 0;bottom: 0;left: 50%;z-index: -1;}#sk-container-id-1 div.sk-parallel-item {display: flex;flex-direction: column;z-index: 1;position: relative;background-color: white;}#sk-container-id-1 div.sk-parallel-item:first-child::after {align-self: flex-end;width: 50%;}#sk-container-id-1 div.sk-parallel-item:last-child::after {align-self: flex-start;width: 50%;}#sk-container-id-1 div.sk-parallel-item:only-child::after {width: 0;}#sk-container-id-1 div.sk-dashed-wrapped {border: 1px dashed gray;margin: 0 0.4em 0.5em 0.4em;box-sizing: border-box;padding-bottom: 0.4em;background-color: white;}#sk-container-id-1 div.sk-label label {font-family: monospace;font-weight: bold;display: inline-block;line-height: 1.2em;}#sk-container-id-1 div.sk-label-container {text-align: center;}#sk-container-id-1 div.sk-container {/* jupyter's `normalize.less` sets `[hidden] { display: none; }` but bootstrap.min.css set `[hidden] { display: none !important; }` so we also need the `!important` here to be able to override the default hidden behavior on the sphinx rendered scikit-learn.org. See: https://github.com/scikit-learn/scikit-learn/issues/21755 */display: inline-block !important;position: relative;}#sk-container-id-1 div.sk-text-repr-fallback {display: none;}</style><div id=\"sk-container-id-1\" class=\"sk-top-container\"><div class=\"sk-text-repr-fallback\"><pre>LogisticRegression()</pre><b>In a Jupyter environment, please rerun this cell to show the HTML representation or trust the notebook. <br />On GitHub, the HTML representation is unable to render, please try loading this page with nbviewer.org.</b></div><div class=\"sk-container\" hidden><div class=\"sk-item\"><div class=\"sk-estimator sk-toggleable\"><input class=\"sk-toggleable__control sk-hidden--visually\" id=\"sk-estimator-id-1\" type=\"checkbox\" checked><label for=\"sk-estimator-id-1\" class=\"sk-toggleable__label sk-toggleable__label-arrow\">LogisticRegression</label><div class=\"sk-toggleable__content\"><pre>LogisticRegression()</pre></div></div></div></div></div>"
            ],
            "text/plain": [
              "LogisticRegression()"
            ]
          },
          "execution_count": 23,
          "metadata": {},
          "output_type": "execute_result"
        }
      ],
      "source": [
        "model.fit(x_train, y_train)"
      ]
    },
    {
      "cell_type": "code",
      "execution_count": null,
      "metadata": {
        "id": "-ds8z-NauVN0"
      },
      "outputs": [],
      "source": [
        "prediction = model.predict(x_test)"
      ]
    },
    {
      "cell_type": "code",
      "execution_count": null,
      "metadata": {
        "id": "lrxO9OMsucCa"
      },
      "outputs": [],
      "source": [
        "prediction_prof = pd.DataFrame({\"prediction\": prediction, \"real\": y_test})"
      ]
    },
    {
      "cell_type": "code",
      "execution_count": null,
      "metadata": {
        "colab": {
          "base_uri": "https://localhost:8080/"
        },
        "id": "uz-2NBH4udPy",
        "outputId": "f13840c9-a9f9-42fa-d189-5068d9d2ece9"
      },
      "outputs": [
        {
          "data": {
            "text/plain": [
              "prediction    409\n",
              "real          642\n",
              "dtype: int64"
            ]
          },
          "execution_count": 26,
          "metadata": {},
          "output_type": "execute_result"
        }
      ],
      "source": [
        "prediction_prof.sum()"
      ]
    },
    {
      "cell_type": "code",
      "execution_count": null,
      "metadata": {
        "colab": {
          "base_uri": "https://localhost:8080/"
        },
        "id": "ltj_ljp6u-eE",
        "outputId": "d3611794-88f1-477e-f5d3-2ab482338a71"
      },
      "outputs": [
        {
          "name": "stdout",
          "output_type": "stream",
          "text": [
            "[[41474    21]\n",
            " [  254   388]]\n"
          ]
        }
      ],
      "source": [
        "from sklearn.metrics import confusion_matrix\n",
        "\n",
        "cm = confusion_matrix(y_test, prediction)\n",
        "\n",
        "print(cm)"
      ]
    },
    {
      "cell_type": "markdown",
      "metadata": {},
      "source": [
        "#### in general the acuraccy score is 99.34% but just in the fraud cases is 60.43% of acuraccy"
      ]
    },
    {
      "cell_type": "markdown",
      "metadata": {},
      "source": [
        "# importing Model"
      ]
    },
    {
      "cell_type": "code",
      "execution_count": null,
      "metadata": {
        "colab": {
          "base_uri": "https://localhost:8080/"
        },
        "id": "MN7jhDKvw40Z",
        "outputId": "beb88208-a259-4e94-960e-e1520927bd27"
      },
      "outputs": [
        {
          "name": "stdout",
          "output_type": "stream",
          "text": [
            "Modelo guardado como CCFD.pkl\n"
          ]
        }
      ],
      "source": [
        "import pickle\n",
        "\n",
        "with open('CCFD.pkl', 'wb') as f:\n",
        "    pickle.dump(model, f)\n",
        "\n",
        "print(\"Model saved CCFD.pkl\")"
      ]
    },
    {
      "cell_type": "code",
      "execution_count": null,
      "metadata": {
        "colab": {
          "base_uri": "https://localhost:8080/",
          "height": 17
        },
        "id": "wwoM7OU8uyHC",
        "outputId": "e1ad0e7c-5c48-48db-add3-4979524a21a5"
      },
      "outputs": [
        {
          "data": {
            "application/javascript": "\n    async function download(id, filename, size) {\n      if (!google.colab.kernel.accessAllowed) {\n        return;\n      }\n      const div = document.createElement('div');\n      const label = document.createElement('label');\n      label.textContent = `Downloading \"${filename}\": `;\n      div.appendChild(label);\n      const progress = document.createElement('progress');\n      progress.max = size;\n      div.appendChild(progress);\n      document.body.appendChild(div);\n\n      const buffers = [];\n      let downloaded = 0;\n\n      const channel = await google.colab.kernel.comms.open(id);\n      // Send a message to notify the kernel that we're ready.\n      channel.send({})\n\n      for await (const message of channel.messages) {\n        // Send a message to notify the kernel that we're ready.\n        channel.send({})\n        if (message.buffers) {\n          for (const buffer of message.buffers) {\n            buffers.push(buffer);\n            downloaded += buffer.byteLength;\n            progress.value = downloaded;\n          }\n        }\n      }\n      const blob = new Blob(buffers, {type: 'application/binary'});\n      const a = document.createElement('a');\n      a.href = window.URL.createObjectURL(blob);\n      a.download = filename;\n      div.appendChild(a);\n      a.click();\n      div.remove();\n    }\n  ",
            "text/plain": [
              "<IPython.core.display.Javascript object>"
            ]
          },
          "metadata": {},
          "output_type": "display_data"
        },
        {
          "data": {
            "application/javascript": "download(\"download_8d743222-fcbd-4cb8-bbe1-26afd8c11420\", \"CCFD.pkl\", 1210)",
            "text/plain": [
              "<IPython.core.display.Javascript object>"
            ]
          },
          "metadata": {},
          "output_type": "display_data"
        }
      ],
      "source": [
        "from google.colab import files\n",
        "\n",
        "files.download('CCFD.pkl')"
      ]
    },
    {
      "cell_type": "markdown",
      "metadata": {},
      "source": [
        "# Creating CSV for db table"
      ]
    },
    {
      "cell_type": "code",
      "execution_count": 4,
      "metadata": {
        "id": "pUIw6aKou2vs"
      },
      "outputs": [],
      "source": [
        "dataCSV = pd.read_csv('fraudtestdumed.csv')"
      ]
    },
    {
      "cell_type": "code",
      "execution_count": 5,
      "metadata": {},
      "outputs": [
        {
          "name": "stderr",
          "output_type": "stream",
          "text": [
            "/tmp/ipykernel_64117/686612443.py:6: UserWarning: Parsing dates in %d/%m/%Y %H:%M format when dayfirst=False (the default) was specified. Pass `dayfirst=True` or specify a format to silence this warning.\n",
            "  df.trans_date_trans_time = pd.to_datetime(df['trans_date_trans_time'])\n",
            "/tmp/ipykernel_64117/686612443.py:8: FutureWarning: A value is trying to be set on a copy of a DataFrame or Series through chained assignment using an inplace method.\n",
            "The behavior will change in pandas 3.0. This inplace method will never work because the intermediate object on which we are setting values always behaves as a copy.\n",
            "\n",
            "For example, when doing 'df[col].method(value, inplace=True)', try using 'df.method({col: value}, inplace=True)' or df[col] = df[col].method(value) instead, to perform the operation inplace on the original object.\n",
            "\n",
            "\n",
            "  df['Time'].fillna(0, inplace=True)\n"
          ]
        }
      ],
      "source": [
        "dataCSV = processingDT(dataCSV)"
      ]
    },
    {
      "cell_type": "code",
      "execution_count": 7,
      "metadata": {},
      "outputs": [
        {
          "name": "stdout",
          "output_type": "stream",
          "text": [
            "Empty DataFrame\n",
            "Columns: [cc_num, amt, is_fraud, Time, merchant_fraud_Abbott-Rogahn, merchant_fraud_Abbott-Steuber, merchant_fraud_Abernathy and Sons, merchant_fraud_Abshire PLC, merchant_fraud_Adams, Kovacek and Kuhlman, merchant_fraud_Adams-Barrows, merchant_fraud_Altenwerth, Cartwright and Koss, merchant_fraud_Altenwerth-Kilback, merchant_fraud_Ankunding LLC, merchant_fraud_Ankunding-Carroll, merchant_fraud_Armstrong, Walter and Gottlieb, merchant_fraud_Auer LLC, merchant_fraud_Auer-Mosciski, merchant_fraud_Auer-West, merchant_fraud_Bahringer Group, merchant_fraud_Bahringer, Bergnaum and Quitzon, merchant_fraud_Bahringer, Osinski and Block, merchant_fraud_Bahringer, Schoen and Corkery, merchant_fraud_Bahringer-Larson, merchant_fraud_Bahringer-Streich, merchant_fraud_Bailey-Morar, merchant_fraud_Balistreri-Nader, merchant_fraud_Barrows PLC, merchant_fraud_Bartoletti and Sons, merchant_fraud_Bartoletti-Wunsch, merchant_fraud_Barton Inc, merchant_fraud_Barton LLC, merchant_fraud_Bashirian Group, merchant_fraud_Bauch-Blanda, merchant_fraud_Bauch-Raynor, merchant_fraud_Baumbach Ltd, merchant_fraud_Baumbach, Feeney and Morar, merchant_fraud_Baumbach, Hodkiewicz and Walsh, merchant_fraud_Baumbach, Strosin and Nicolas, merchant_fraud_Bechtelar-Rippin, merchant_fraud_Becker, Harris and Harvey, merchant_fraud_Bednar Group, merchant_fraud_Bednar Inc, merchant_fraud_Bednar PLC, merchant_fraud_Beer-Jast, merchant_fraud_Beier LLC, merchant_fraud_Beier and Sons, merchant_fraud_Beier-Hyatt, merchant_fraud_Berge LLC, merchant_fraud_Berge, Kautzer and Harris, merchant_fraud_Berge-Hills, merchant_fraud_Berge-Ullrich, merchant_fraud_Bernhard Inc, merchant_fraud_Bernhard, Grant and Langworth, merchant_fraud_Bernhard-Lesch, merchant_fraud_Bernier and Sons, merchant_fraud_Bernier, Streich and Jewess, merchant_fraud_Bernier, Volkman and Hoeger, merchant_fraud_Bins, Balistreri and Beatty, merchant_fraud_Bins-Howell, merchant_fraud_Bins-Rice, merchant_fraud_Bins-Tillman, merchant_fraud_Block Group, merchant_fraud_Block-Hauck, merchant_fraud_Block-Parisian, merchant_fraud_Bode-Rempel, merchant_fraud_Bode-Schuster, merchant_fraud_Boehm, Block and Jakubowski, merchant_fraud_Boehm, Predovic and Reinger, merchant_fraud_Bogisich Inc, merchant_fraud_Bogisich-Homenick, merchant_fraud_Bogisich-Weimann, merchant_fraud_Botsford Ltd, merchant_fraud_Botsford PLC, merchant_fraud_Botsford and Sons, merchant_fraud_Boyer PLC, merchant_fraud_Boyer-Haley, merchant_fraud_Boyer-Reichert, merchant_fraud_Bradtke PLC, merchant_fraud_Bradtke, Torp and Bahringer, merchant_fraud_Breitenberg LLC, merchant_fraud_Breitenberg-Hermiston, merchant_fraud_Brekke and Sons, merchant_fraud_Brown Inc, merchant_fraud_Brown PLC, merchant_fraud_Brown, Homenick and Lesch, merchant_fraud_Brown-Greenholt, merchant_fraud_Bruen-Yost, merchant_fraud_Buckridge PLC, merchant_fraud_Carroll PLC, merchant_fraud_Cartwright PLC, merchant_fraud_Cartwright-Harris, merchant_fraud_Casper, Hand and Zulauf, merchant_fraud_Cassin-Harvey, merchant_fraud_Champlin and Sons, merchant_fraud_Champlin, Rolfson and Connelly, merchant_fraud_Champlin-Casper, merchant_fraud_Christiansen, Goyette and Schamberger, merchant_fraud_Christiansen-Gusikowski, merchant_fraud_Cole PLC, merchant_fraud_Cole, Hills and Jewess, ...]\n",
            "Index: []\n",
            "\n",
            "[0 rows x 2088 columns]\n"
          ]
        }
      ],
      "source": [
        "dataCSV.drop(dataCSV.index, inplace=True)\n",
        "\n",
        "print(dataCSV)"
      ]
    },
    {
      "cell_type": "code",
      "execution_count": 8,
      "metadata": {},
      "outputs": [],
      "source": [
        "dataCSV.to_csv('fraudtestdumed.csv',index=False)"
      ]
    },
    {
      "cell_type": "code",
      "execution_count": null,
      "metadata": {},
      "outputs": [],
      "source": []
    }
  ],
  "metadata": {
    "colab": {
      "include_colab_link": true,
      "provenance": []
    },
    "kernelspec": {
      "display_name": "base",
      "language": "python",
      "name": "python3"
    },
    "language_info": {
      "codemirror_mode": {
        "name": "ipython",
        "version": 3
      },
      "file_extension": ".py",
      "mimetype": "text/x-python",
      "name": "python",
      "nbconvert_exporter": "python",
      "pygments_lexer": "ipython3",
      "version": "3.10.12"
    }
  },
  "nbformat": 4,
  "nbformat_minor": 0
}
