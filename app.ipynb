{
 "cells": [
  {
   "cell_type": "code",
   "execution_count": 1,
   "metadata": {},
   "outputs": [
    {
     "name": "stdout",
     "output_type": "stream",
     "text": [
      "Defaulting to user installation because normal site-packages is not writeable\n",
      "Requirement already satisfied: flask in /home/byshadowoz/.local/lib/python3.10/site-packages (3.0.3)\n",
      "Requirement already satisfied: Werkzeug>=3.0.0 in /home/byshadowoz/.local/lib/python3.10/site-packages (from flask) (3.0.2)\n",
      "Requirement already satisfied: Jinja2>=3.1.2 in /home/byshadowoz/.local/lib/python3.10/site-packages (from flask) (3.1.3)\n",
      "Requirement already satisfied: itsdangerous>=2.1.2 in /home/byshadowoz/.local/lib/python3.10/site-packages (from flask) (2.2.0)\n",
      "Requirement already satisfied: click>=8.1.3 in /home/byshadowoz/.local/lib/python3.10/site-packages (from flask) (8.1.7)\n",
      "Requirement already satisfied: blinker>=1.6.2 in /home/byshadowoz/.local/lib/python3.10/site-packages (from flask) (1.7.0)\n",
      "Requirement already satisfied: MarkupSafe>=2.0 in /home/byshadowoz/.local/lib/python3.10/site-packages (from Jinja2>=3.1.2->flask) (2.1.5)\n"
     ]
    }
   ],
   "source": [
    "!pip install flask"
   ]
  },
  {
   "cell_type": "code",
   "execution_count": 3,
   "metadata": {},
   "outputs": [
    {
     "name": "stdout",
     "output_type": "stream",
     "text": [
      " * Serving Flask app '__main__'\n",
      " * Debug mode: off\n"
     ]
    },
    {
     "name": "stderr",
     "output_type": "stream",
     "text": [
      "WARNING: This is a development server. Do not use it in a production deployment. Use a production WSGI server instead.\n",
      " * Running on http://127.0.0.1:5000\n",
      "Press CTRL+C to quit\n",
      "127.0.0.1 - - [27/Apr/2024 13:05:06] \"POST /datos HTTP/1.1\" 201 -\n"
     ]
    },
    {
     "name": "stdout",
     "output_type": "stream",
     "text": [
      "2.6.0\n",
      "(1, '3573030000000000', 'fraud_Kirlin and Sons', 'travel', 201.5, 'Thomas', 'WV', 'Biomedical engineer', '21/06/2020 12:15')\n"
     ]
    }
   ],
   "source": [
    "from flask import Flask, request, jsonify\n",
    "import sqlite3\n",
    "from sqlite3 import Error\n",
    "\n",
    "# Función para crear una conexión a la base de datos SQLite\n",
    "def create_connection(db_file):\n",
    "    conn = None;\n",
    "    try:\n",
    "        conn = sqlite3.connect(db_file)\n",
    "        print(sqlite3.version)\n",
    "    except Error as e:\n",
    "        print(e)\n",
    "\n",
    "    if conn:\n",
    "        return conn\n",
    "\n",
    "# Función para crear una tabla en la base de datos SQLite\n",
    "def create_table(conn):\n",
    "    try:\n",
    "        sql = '''CREATE TABLE creditcard(id integer PRIMARY KEY, cc_num VARCHAR(255) NOT NULL, \n",
    "        merchant VARCHAR(255) NOT NULL, category VARCHAR(255) NOT NULL, amt FLOAT NOT NULL,\n",
    "        city VARCHAR(255) NOT NULL, state VARCHAR(255) NOT NULL, job VARCHAR(255) NOT NULL, \n",
    "        trans_date_trans_time DATETIME NOT NULL)'''\n",
    "        conn.execute(sql)\n",
    "    except Error as e:\n",
    "        print(e)\n",
    "\n",
    "# Función para insertar datos en la base de datos SQLite\n",
    "def insert_datos(conn, info):\n",
    "    try:\n",
    "        cur = conn.cursor()\n",
    "        cur.execute(\"INSERT INTO creditcard(cc_num, merchant, category, amt, city, state, job, trans_date_trans_time) VALUES (?, ?, ?, ?, ?, ?, ?, ?)\", \n",
    "                    (info['cc_num'], info['merchant'], info['category'], info['amt'], info['city'], info['state'], info['job'], info['trans_date_trans_time']))\n",
    "        conn.commit()\n",
    "    except Error as e:\n",
    "        print(e)\n",
    "\n",
    "def check_database(conn):\n",
    "    cur = conn.cursor()\n",
    "    cur.execute(\"SELECT * FROM creditcard\")\n",
    "\n",
    "    rows = cur.fetchall()\n",
    "\n",
    "    for row in rows:\n",
    "        print(row)\n",
    "\n",
    "\n",
    "app = Flask(__name__)\n",
    "\n",
    "@app.route('/datos', methods=['POST'])\n",
    "def post_datos():\n",
    "    info = request.get_json()\n",
    "    conn = create_connection(\"bank.db\")\n",
    "    create_table(conn)\n",
    "    insert_datos(conn, info)\n",
    "    check_database(conn)\n",
    "    return jsonify({'message': '¡Información guardada con éxito!'}), 201\n",
    "\n",
    "if __name__ == '__main__':\n",
    "    app.run(debug=False)"
   ]
  },
  {
   "cell_type": "code",
   "execution_count": null,
   "metadata": {},
   "outputs": [],
   "source": []
  }
 ],
 "metadata": {
  "kernelspec": {
   "display_name": "Python 3",
   "language": "python",
   "name": "python3"
  },
  "language_info": {
   "codemirror_mode": {
    "name": "ipython",
    "version": 3
   },
   "file_extension": ".py",
   "mimetype": "text/x-python",
   "name": "python",
   "nbconvert_exporter": "python",
   "pygments_lexer": "ipython3",
   "version": "3.10.12"
  }
 },
 "nbformat": 4,
 "nbformat_minor": 2
}
